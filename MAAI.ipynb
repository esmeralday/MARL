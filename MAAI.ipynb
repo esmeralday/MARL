{
  "nbformat": 4,
  "nbformat_minor": 0,
  "metadata": {
    "colab": {
      "name": "Multi-Agent Reinforcment Learning.ipynb",
      "provenance": [],
      "collapsed_sections": [],
      "toc_visible": true
    },
    "kernelspec": {
      "name": "python3",
      "display_name": "Python 3"
    },
    "accelerator": "GPU"
  },
  "cells": [
    {
      "cell_type": "markdown",
      "metadata": {
        "colab_type": "text",
        "id": "KmRC7RA2U8S-"
      },
      "source": [
        "## Part I: Matrix Game\n",
        "\n",
        "We start with the simplest setting: Matrix Game (a.k.a Stage Game/Normal Form Game). In this part, we will try to solve the matrix game with full knowledge of the payoff for each player in the game.\n",
        "\n",
        "\n",
        "\n",
        "Given a two-player, two-action matrix game, we have the payoff matrices as follows:\n",
        "$$\n",
        "\\mathbf{R}^1 = \\left[\\begin{matrix}\n",
        "0 & 3 \\\\\n",
        "1 &2\n",
        "\\end{matrix}\\right] \n",
        "\\quad \n",
        "\\mathbf{R}^2 = \\left[\\begin{matrix}\n",
        "3 & 2 \\\\\n",
        "0 & 1\n",
        "\\end{matrix}\\right]\n",
        "$$\n",
        "\n",
        "Each player selects an action from the action space $\\{1,2\\}$ which determines the payoffs to the players. If the player 1 chooses action $i$ and the player 2 chooses action $j$, then the player 1 and player2 receive the rewards $r^1_{ij}$ and $r^2_{ij}$ respectively. For example, if both players choose action $1$, then the player 1 would have $r^1_{11}=0$ and player 1 would receive $r^2_{11}=3$.\n",
        "\n",
        "Then, we can use $\\alpha\\in [0,1] $ represents the strategy for player 1, where $\\alpha$ corresponds to the probability of player 1 selecting the first action (action 1), and $1-\\alpha$ is the probability of choosing the second action (action 2). Similarly, we use $\\beta$ to be the strategy for player 2.\n",
        "\n",
        "Given the pair of strategies $(\\alpha, \\beta)$, we can have the expected payoffs for two players. Denote $V^1(\\alpha, \\beta)$ and $V^2(\\alpha, \\beta)$ as the expected payoffs for two players respectively:\n",
        "\n",
        "$$\n",
        "\\begin{aligned} V^{1}(\\alpha, \\beta) &=\\alpha \\beta r^1_{11}+\\alpha(1-\\beta) r^1_{12}+(1-\\alpha) \\beta r^1_{21}+(1-\\alpha)(1-\\beta) r^1_{22} \\\\ &=u^1 \\alpha \\beta+\\alpha\\left(r^1_{12}-r^1_{22}\\right)+\\beta\\left(r_{21}-r^1_{22}\\right)+r^1_{22} \\end{aligned}\n",
        "$$\n",
        "$$\n",
        "\\begin{aligned} V^{2}(\\alpha, \\beta) &=\\alpha \\beta r^2_{11}+\\alpha(1-\\beta) r^2_{12}+(1-\\alpha) \\beta r^2_{21}+(1-\\alpha)(1-\\beta) r^2_{22} \\\\ &=u^2 \\alpha \\beta+\\alpha\\left(r^2_{12}-r^2_{22}\\right)+\\beta\\left(r_{21}-r^2_{22}\\right)+r^2_{22}\\end{aligned}\n",
        "$$\n",
        "\n",
        "where\n",
        "\n",
        "$$\n",
        "\\begin{aligned} u^1 &=r^1_{11}-r^1_{12}-r^1_{21}+r^1_{22} \\\\  u^2 &=r^2_{11}-r^2_{12}-r^2_{21}+r^2_{22} .\\end{aligned}\n",
        "$$\n",
        "\n"
      ]
    },
    {
      "cell_type": "markdown",
      "metadata": {
        "colab_type": "text",
        "id": "v0vgcJ95U8Bh"
      },
      "source": [
        "#### Set up matrix game (4 points)\n",
        "\n"
      ]
    },
    {
      "cell_type": "code",
      "metadata": {
        "colab_type": "code",
        "id": "UJ1pzFNfU7vw",
        "colab": {}
      },
      "source": [
        "import numpy as np\n",
        "from copy import deepcopy\n",
        "\n",
        "\n",
        "def U(payoff):\n",
        "    u = payoff[0,0] - payoff[0,1] - payoff[1,0] + payoff[1,1]\n",
        "    return u\n",
        "  \n",
        "    \n",
        "# expected payoff\n",
        "def V(alpha, beta, payoff):\n",
        "    u = U(payoff)\n",
        "    v = (u*alpha*beta+alpha*(payoff[0,1]-payoff[1,1])+beta*(payoff[1,0]\n",
        "                                                            -payoff[1,1])+payoff[1,1])\n",
        "    return v\n",
        "\n",
        "\n",
        "payoff_0 = np.array([[0, 3], \n",
        "                     [1, 2]])\n",
        "payoff_1 = np.array([[3, 2], \n",
        "                     [0, 1]])\n",
        "\n",
        "pi_alpha = 0. # init policy for player 1\n",
        "pi_beta = 0.9 # init policy for player 2\n",
        "\n",
        "#nash strategy of given matrix game \n",
        "pi_alpha_nash = 0.5    # nash strategy for player 1\n",
        "pi_beta_nash = 0.5     # nash strategy for player 2\n",
        "\n",
        "u_alpha = U(payoff_0)\n",
        "u_beta = U(payoff_1)"
      ],
      "execution_count": null,
      "outputs": []
    },
    {
      "cell_type": "markdown",
      "metadata": {
        "colab_type": "text",
        "id": "_pcU6X4eU7VB"
      },
      "source": [
        "#### Infinitesimal Gredient Ascent (IGA) \n",
        "\n",
        "To find the optimal strategies, here we use the [Infinitesimal Gradient Ascent (IGA)](https://www.sciencedirect.com/science/article/pii/S0004370202001212) to adjust the strategies at each iteration by considering the effect of changing its strategy on its expected payoffs.  These effects can be captured by calculating the partial derivatives of its expected payoff with respect to its strategy.\n",
        "\n",
        "$$\n",
        "\\begin{aligned} \\frac{\\partial V^{1}(\\alpha, \\beta)}{\\partial \\alpha} &=\\beta u^1+\\left(r^1_{12}-r^1_{22}\\right) \\\\ \\frac{\\partial V^{2}(\\alpha, \\beta)}{\\partial \\beta} &=\\alpha u^2+\\left(r^2_{21}-r^2_{22}\\right). \\end{aligned}\n",
        "$$\n",
        "\n",
        "Accodirng to the gradient from partial derivatives, players could adjust the strategies in the direction of the current gradient with some step size $\\eta$. If $(\\alpha_k, \\beta_k)$ is the strategy pair at $k$th iteration, then using IGA to update the strategies would get the new strategies:\n",
        "\n",
        "$$\n",
        "\\begin{array}{l}{\\alpha_{k+1}=\\alpha_{k}+\\eta \\frac{\\partial V^{1}\\left(\\alpha_{k}, \\beta_{k}\\right)}{\\partial \\alpha_{k}}} \\\\ {\\beta_{k+1}=\\beta_{k}+\\eta \\frac{\\partial V^{2}\\left(\\alpha_{k}, \\beta_{k}\\right)}{\\partial \\beta_{k}}}\\end{array}\n",
        "$$"
      ]
    },
    {
      "cell_type": "code",
      "metadata": {
        "colab_type": "code",
        "id": "6x1nzvScU5p6",
        "colab": {}
      },
      "source": [
        "def IGA(pi_alpha,\n",
        "        pi_beta,\n",
        "        payoff_0,\n",
        "        payoff_1,\n",
        "        u_alpha,\n",
        "        u_beta,\n",
        "        iteration=1000, # iteration number\n",
        "        eta=0.01 # step size\n",
        "       ):\n",
        "    pi_alpha_history = [pi_alpha]\n",
        "    pi_beta_history = [pi_beta]\n",
        "    pi_alpha_gradient_history = [0.]\n",
        "    pi_beta_gradient_history = [0.]\n",
        "    for i in range(iteration):\n",
        "        pi_alpha_gradient = pi_beta * u_alpha + (payoff_0[0,1] - payoff_0[1,1])\n",
        "        pi_beta_gradient = pi_alpha * u_beta + (payoff_1[1,0] - payoff_1[1,1])\n",
        "        pi_alpha_next = pi_alpha + eta * pi_alpha_gradient\n",
        "        pi_beta_next = pi_beta + eta * pi_beta_gradient\n",
        "        pi_alpha = max(0., min(1., pi_alpha_next))\n",
        "        pi_beta = max(0., min(1., pi_beta_next))\n",
        "        pi_alpha_gradient_history.append(pi_alpha_gradient)\n",
        "        pi_beta_gradient_history.append(pi_beta_gradient)\n",
        "        pi_alpha_history.append(pi_alpha)\n",
        "        pi_beta_history.append(pi_beta)\n",
        "    return pi_alpha_history, \\\n",
        "           pi_beta_history, \\\n",
        "           pi_alpha_gradient_history, \\\n",
        "           pi_beta_gradient_history"
      ],
      "execution_count": null,
      "outputs": []
    },
    {
      "cell_type": "markdown",
      "metadata": {
        "id": "uHK9uOF5i1bx",
        "colab_type": "text"
      },
      "source": [
        "#### WoLF-IGA \n",
        "\n",
        "The above IGA algorithm uses constant step size. A specific method for varying the learning rate here is [IGA WoLF (Win or Learn Fast)](https://www.sciencedirect.com/science/article/pii/S0004370202001212),  it allows the step size varies over time. Let $\\alpha^{e}$ and $\\beta^{e}$ represent the equilibrium strategies of two players, now we have new updated rules for WoLF-IGA algorithm:\n",
        "\n",
        "$$\n",
        "\\begin{array}{l}{\\alpha_{k+1}=\\alpha_{k}+\\eta_k^{1} \\frac{\\partial V^{1}\\left(\\alpha_{k}, \\beta_{k}\\right)}{\\partial \\alpha_{k}}} \\\\ {\\beta_{k+1}=\\beta_{k}+\\eta_k^{2}  \\frac{\\partial V^{2}\\left(\\alpha_{k}, \\beta_{k}\\right)}{\\partial \\beta_{k}}}\\end{array}\n",
        "$$\n",
        "\n",
        "where\n",
        "\n",
        "$$\n",
        "\\eta_{k}^{1}=\\left\\{\\begin{array}{l}{\\eta_{\\min } \\text { if } V^1\\left(\\alpha_{k}, \\beta_{k}\\right)>V^1\\left(\\alpha^{e}, \\beta_{k}\\right)} \\\\ {\\eta_{\\max } \\text { otherwise }}\\end{array}\\right.\n",
        "$$\n",
        "$$\n",
        "\\eta_{k}^{2}=\\left\\{\\begin{array}{l}{\\eta_{\\min } \\text { if } V^2\\left(\\alpha_{k}, \\beta_{k}\\right)>V^2\\left(\\alpha_{k}, \\beta^{e}\\right)} \\\\ {\\eta_{\\max } \\text { otherwise }}\\end{array}\\right.\n",
        "$$.\n",
        "\n"
      ]
    },
    {
      "cell_type": "code",
      "metadata": {
        "id": "GyeREOn5i69H",
        "colab_type": "code",
        "colab": {}
      },
      "source": [
        "def WoLF_IGA(pi_alpha,\n",
        "             pi_beta, \n",
        "             payoff_0, \n",
        "             payoff_1,\n",
        "             u_alpha,\n",
        "             u_beta,\n",
        "             pi_alpha_nash, \n",
        "             pi_beta_nash,\n",
        "             iteration=1000,\n",
        "             eta_min=0.01, # min step size\n",
        "             eta_max=0.04 # max step size \n",
        "            ):\n",
        "    pi_alpha_history = [pi_alpha]\n",
        "    pi_beta_history = [pi_beta]\n",
        "    pi_alpha_gradient_history = [0.]\n",
        "    pi_beta_gradient_history = [0.]\n",
        "    for i in range(iteration):\n",
        "\n",
        "        pi_alpha_gradient = pi_beta * u_alpha + (payoff_0[0,1] - payoff_0[1,1])\n",
        "        pi_beta_gradient = pi_alpha * u_beta + (payoff_1[1,0] - payoff_1[1,1])\n",
        "\n",
        "        if V(pi_alpha, pi_beta, payoff_0) > V(pi_alpha_nash, pi_beta, payoff_0):\n",
        "          pi_alpha_next = pi_alpha + eta_min * pi_alpha_gradient\n",
        "        else:\n",
        "          pi_alpha_next = pi_alpha + eta_max * pi_alpha_gradient\n",
        "\n",
        "        if V(pi_alpha, pi_beta, payoff_1) > V(pi_alpha, pi_beta_nash, payoff_1):\n",
        "          pi_beta_next = pi_beta + eta_min * pi_beta_gradient\n",
        "        else:\n",
        "          pi_beta_next = pi_beta + eta_max * pi_beta_gradient\n",
        "\n",
        "        pi_alpha = max(0., min(1., pi_alpha_next))\n",
        "        pi_beta = max(0., min(1., pi_beta_next))\n",
        "        pi_alpha_gradient_history.append(pi_alpha_gradient)\n",
        "        pi_beta_gradient_history.append(pi_beta_gradient)\n",
        "        pi_alpha_history.append(pi_alpha)\n",
        "        pi_beta_history.append(pi_beta)\n",
        "    return pi_alpha_history, \\\n",
        "           pi_beta_history, \\\n",
        "           pi_alpha_gradient_history, \\\n",
        "           pi_beta_gradient_history"
      ],
      "execution_count": null,
      "outputs": []
    },
    {
      "cell_type": "markdown",
      "metadata": {
        "id": "m87DHp5ejEbs",
        "colab_type": "text"
      },
      "source": [
        "#### IGA-PP\n",
        "\n",
        "The IGA agent uses the gradient from other's current strategies to adjust its strategy. Suppose that one player knows the change direction of the other’s strategy,\n",
        "i.e., strategy derivative, in addition to its current strategy.\n",
        "Then the player can forecast the other’s strategy and adjust its strategy in response to the forecasted strategy. Thus the strategy update rules is changed to by using the policy prediction ([IGA-PP](https://www.aaai.org/ocs/index.php/AAAI/AAAI10/paper/view/1885)):\n",
        "\n",
        "$$\n",
        "\\begin{array}{l}{\\alpha_{k+1}=\\alpha_{k}+\\eta\\frac{\\partial V^{1}\\left(\\alpha_{k}, \\beta_{k} + \\gamma \\partial_{\\beta}V^{2}\\left(\\alpha_{k}, \\beta_{k}\\right)  \\right)}{\\partial \\alpha_{k}}} \\\\ {\\beta_{k+1}=\\beta_{k}+\\eta  \\frac{\\partial V^{2}\\left(\\alpha_{k} + \\gamma \\partial_{\\alpha} V^{1}\\left(\\alpha_{k}, \\beta_{k} \\right) , \\beta_{k}\\right)}{\\partial \\beta_{k}}}\\end{array}\n",
        "$$"
      ]
    },
    {
      "cell_type": "code",
      "metadata": {
        "id": "HdWyTm_FjGqk",
        "colab_type": "code",
        "colab": {}
      },
      "source": [
        "def IGA_PP(pi_alpha,\n",
        "           pi_beta,\n",
        "           payoff_0,\n",
        "           payoff_1,\n",
        "           u_alpha,\n",
        "           u_beta,\n",
        "           iteration=10000,\n",
        "           eta=0.01, # step size\n",
        "           gamma=0.1 # step size for policy prediction\n",
        "          ):\n",
        "    pi_alpha_history = [pi_alpha]\n",
        "    pi_beta_history = [pi_beta]\n",
        "    pi_alpha_gradient_history = [0.]\n",
        "    pi_beta_gradient_history = [0.]\n",
        "    for i in range(iteration):\n",
        "\n",
        "        pi_alpha_gradient_initial = pi_beta * u_alpha + (payoff_0[0,1] - payoff_0[1,1])\n",
        "        pi_beta_gradient_initial = pi_alpha * u_beta + (payoff_1[1,0] - payoff_1[1,1])\n",
        "\n",
        "        pi_beta_new = pi_beta + gamma * pi_beta_gradient_initial\n",
        "        pi_alpha_new = pi_alpha + gamma * pi_alpha_gradient_initial\n",
        "\n",
        "        pi_alpha_gradient = pi_beta_new * u_alpha + (payoff_0[0,1] - payoff_0[1,1])\n",
        "        pi_beta_gradient = pi_alpha_new * u_beta + (payoff_1[1,0] - payoff_1[1,1])\n",
        "\n",
        "        pi_alpha_next = pi_alpha + (eta * pi_alpha_gradient) \n",
        "        pi_beta_next = pi_beta + (eta * pi_beta_gradient)\n",
        "\n",
        "        pi_alpha = max(0., min(1., pi_alpha_next))\n",
        "        pi_beta = max(0., min(1., pi_beta_next))\n",
        "        pi_alpha_gradient_history.append(pi_alpha_gradient)\n",
        "        pi_beta_gradient_history.append(pi_beta_gradient)\n",
        "        pi_alpha_history.append(pi_alpha)\n",
        "        pi_beta_history.append(pi_beta)\n",
        "    return pi_alpha_history, \\\n",
        "           pi_beta_history, \\\n",
        "           pi_alpha_gradient_history, \\\n",
        "           pi_beta_gradient_history"
      ],
      "execution_count": null,
      "outputs": []
    },
    {
      "cell_type": "markdown",
      "metadata": {
        "id": "ckT05j6hj7KI",
        "colab_type": "text"
      },
      "source": [
        "#### Run and compare different methods"
      ]
    },
    {
      "cell_type": "code",
      "metadata": {
        "id": "9IcCRaxZAowK",
        "colab_type": "code",
        "colab": {}
      },
      "source": [
        "%matplotlib inline\n",
        "import matplotlib\n",
        "import matplotlib.pyplot as plt\n",
        "\n",
        "FONTSIZE = 12\n",
        "\n",
        "# plot the learning dynamics\n",
        "def plot_dynamics(history_pi_0, history_pi_1, pi_alpha_gradient_history, pi_beta_gradient_history, title=''):\n",
        "    colors = range(len(history_pi_1))\n",
        "    fig = plt.figure(figsize=(6, 5))\n",
        "    ax = fig.add_subplot(111)\n",
        "\n",
        "    scatter = ax.scatter(history_pi_0, history_pi_1, c=colors, s=1)\n",
        "    ax.scatter(0.5, 0.5, c='r', s=15., marker='*')\n",
        "    colorbar = fig.colorbar(scatter, ax=ax)\n",
        "    colorbar.set_label('Iterations', rotation=270, fontsize=FONTSIZE)\n",
        "\n",
        "    skip = slice(0, len(history_pi_0), 50)\n",
        "    ax.quiver(history_pi_0[skip],\n",
        "              history_pi_1[skip],\n",
        "              pi_alpha_gradient_history[skip],\n",
        "              pi_beta_gradient_history[skip],\n",
        "              units='xy', scale=10., zorder=3, color='blue',\n",
        "              width=0.007, headwidth=3., headlength=4.)\n",
        "\n",
        "    ax.set_ylabel(\"Policy of Player 2\", fontsize=FONTSIZE)\n",
        "    ax.set_xlabel(\"Policy of Player 1\", fontsize=FONTSIZE)\n",
        "    ax.set_ylim(0, 1)\n",
        "    ax.set_xlim(0, 1)\n",
        "    ax.set_title(title, fontsize=FONTSIZE+8)\n",
        "    plt.tight_layout()\n",
        "    plt.show()\n"
      ],
      "execution_count": null,
      "outputs": []
    },
    {
      "cell_type": "code",
      "metadata": {
        "id": "fPtKIX4Gj93i",
        "colab_type": "code",
        "colab": {}
      },
      "source": [
        "agents = ['IGA', 'WoLF-IGA', 'IGA-PP']\n",
        "\n",
        "for agent in agents:\n",
        "\n",
        "  if agent == 'IGA':\n",
        "      pi_alpha_history, \\\n",
        "      pi_beta_history, \\\n",
        "      pi_alpha_gradient_history, \\\n",
        "      pi_beta_gradient_history = IGA(pi_alpha,\n",
        "                                     pi_beta,\n",
        "                                     payoff_0,\n",
        "                                     payoff_1,\n",
        "                                     u_alpha,\n",
        "                                     u_beta,\n",
        "                                     iteration=1000, # iteration number\n",
        "                                     eta=0.01 # step size\n",
        "                                    )\n",
        "  elif agent == 'WoLF-IGA':\n",
        "      pi_alpha_history, \\\n",
        "      pi_beta_history, \\\n",
        "      pi_alpha_gradient_history, \\\n",
        "      pi_beta_gradient_history = WoLF_IGA(pi_alpha,\n",
        "                                          pi_beta,\n",
        "                                          payoff_0,\n",
        "                                          payoff_1,\n",
        "                                          u_alpha,\n",
        "                                          u_beta,\n",
        "                                          pi_alpha_nash=pi_alpha_nash,\n",
        "                                          pi_beta_nash=pi_beta_nash,\n",
        "                                          iteration=1000, # iteration number\n",
        "                                          eta_min=0.01, # min step size\n",
        "                                          eta_max=0.04 # max step size \n",
        "                                         )\n",
        "\n",
        "\n",
        "  elif agent == 'IGA-PP':\n",
        "      pi_alpha_history, \\\n",
        "      pi_beta_history, \\\n",
        "      pi_alpha_gradient_history, \\\n",
        "      pi_beta_gradient_history = IGA_PP(pi_alpha,\n",
        "                                        pi_beta,\n",
        "                                        payoff_0,\n",
        "                                        payoff_1,\n",
        "                                        u_alpha,\n",
        "                                        u_beta,\n",
        "                                        iteration=10000, # iteration number\n",
        "                                        eta=0.01, # step size\n",
        "                                        gamma=0.1 # step size for policy prediction\n",
        "                                       )\n",
        "\n",
        "\n",
        "  plot_dynamics(pi_alpha_history,\n",
        "                pi_beta_history,\n",
        "                pi_alpha_gradient_history,\n",
        "                pi_beta_gradient_history,\n",
        "                agent)\n",
        "  print('{} Done'.format(agent))"
      ],
      "execution_count": null,
      "outputs": []
    },
    {
      "cell_type": "markdown",
      "metadata": {
        "id": "BweAzn12aSKm",
        "colab_type": "text"
      },
      "source": [
        "## Part II: Stochastic Game  "
      ]
    },
    {
      "cell_type": "markdown",
      "metadata": {
        "id": "7vEOnliRltth",
        "colab_type": "text"
      },
      "source": [
        "### Problem Description"
      ]
    },
    {
      "cell_type": "markdown",
      "metadata": {
        "id": "QqrbAu0LeevF",
        "colab_type": "text"
      },
      "source": [
        "We implement two agents to play the Stochastic Game, which has non-monotonicity reward and requires exploration to achieve the global optimal. \n",
        "\n",
        "There are $3$ intermediate states before arriving at the final state. The game transition and reward matrices are:\n",
        "\n",
        "![Stochastic Game](https://raw.githubusercontent.com/mlii/mvrl/master/data/sg.png)\n",
        "\n",
        "Given an initial reward matrix (shown in the middle of the above plot), the choice of joint action leads to different branches. For example, the joint action pair (0, 0) will lead to the left branch, while the joint action pair (1, 1) will lead to the branch on the right. Agents can observe the current step number and branch. Zero rewards lead to the termination state (shown as the red cross).\n",
        "\n",
        "The optimal policy is to take the top left action pair (0, 0), and finally take the bottom right action pair (1, 1), resulting in a optimal total payoff of $8$.\n",
        "\n",
        "This game is not easy, because it needs $3$-step exploration to discover the optimal policy, and is hard to deviate from sub-optimal (the right branch). Thus, using a strategic exploration approach is necessary.\n"
      ]
    },
    {
      "cell_type": "code",
      "metadata": {
        "id": "GjAu3MR3cMTr",
        "colab_type": "code",
        "colab": {}
      },
      "source": [
        "import numpy as np\n",
        "\n",
        "\n",
        "class StochasticGame():\n",
        "    def __init__(self, episode_limit=5, good_branches=2, batch_size=None, **kwargs):\n",
        "        # Define the agents\n",
        "        self.n_agents = 2\n",
        "\n",
        "        self.episode_limit = episode_limit\n",
        "\n",
        "        # Define the internal state\n",
        "        self.steps = 0\n",
        "\n",
        "        r_matrix = [[1,1],[1,1]]\n",
        "        self.payoff_values = [r_matrix for _ in range(self.episode_limit)]\n",
        "        self.final_step_diff =[[1,1],[1,4]]\n",
        "\n",
        "        self.branches = 4\n",
        "        self.branch = 0\n",
        "\n",
        "        self.n_actions = len(self.payoff_values[0])\n",
        "\n",
        "        self.good_branches = good_branches\n",
        "\n",
        "    def reset(self):\n",
        "        \"\"\" Returns initial observations and states\"\"\"\n",
        "        self.steps = 0\n",
        "        self.branch = 0\n",
        "        return self.get_obs()\n",
        "\n",
        "    def step(self, actions):\n",
        "        \"\"\" Returns reward, terminated, info \"\"\"\n",
        "        current_branch = 0\n",
        "        if (actions[0], actions[1]) == (0,0):\n",
        "            current_branch = 0\n",
        "        if (actions[0], actions[1]) == (0,1):\n",
        "            current_branch = 1\n",
        "        if (actions[0], actions[1]) == (1,0):\n",
        "            current_branch = 2\n",
        "        if (actions[0], actions[1]) == (1,1):\n",
        "            current_branch = 3\n",
        "\n",
        "        if self.steps == 0:\n",
        "            self.branch = current_branch\n",
        "\n",
        "        info = {}\n",
        "\n",
        "        info[\"good_payoff\"] = 0\n",
        "        info[\"branch\"] = self.branch\n",
        "\n",
        "        if self.good_branches == 4:\n",
        "            reward = 1 if self.branch == current_branch else 0 # Need to follow your branch\n",
        "        elif self.good_branches == 2:\n",
        "            reward = 1 if self.branch in [0,3] and self.branch == current_branch else 0\n",
        "        else:\n",
        "            raise Exception(\"Environment not setup to handle {} good branches\".format(self.good_branches))\n",
        "\n",
        "        if self.episode_limit > 1 and self.steps == self.episode_limit - 1 and self.branch == 0:\n",
        "            info[\"good_payoff\"] = 1\n",
        "            reward = self.final_step_diff[actions[0]][actions[1]]\n",
        "\n",
        "        self.steps += 1\n",
        "\n",
        "        if self.steps < self.episode_limit and reward > 0:\n",
        "            terminated = False\n",
        "        else:\n",
        "            terminated = True\n",
        "\n",
        "        info[\"episode_limit\"] = False\n",
        "\n",
        "        # How often the joint-actions are taken\n",
        "        info[\"action_00\"] = 0\n",
        "        info[\"action_01\"] = 0\n",
        "        info[\"action_10\"] = 0\n",
        "        info[\"action_11\"] = 0\n",
        "        if (actions[0], actions[1]) == (0, 0):\n",
        "            info[\"action_00\"] = 1\n",
        "        if (actions[0], actions[1]) == (0, 1):\n",
        "            info[\"action_01\"] = 1\n",
        "        if (actions[0], actions[1]) == (1, 0):\n",
        "            info[\"action_10\"] = 1\n",
        "        if (actions[0], actions[1]) == (1, 1):\n",
        "            info[\"action_11\"] = 1\n",
        "\n",
        "        return self.get_obs(), [reward] * 2, [terminated] * 2, info\n",
        "\n",
        "    def get_obs(self):\n",
        "        \"\"\" Returns all agent observations in a list \"\"\"\n",
        "        one_hot_step = [0] * (self.episode_limit + 1 + self.branches)\n",
        "        one_hot_step[self.steps] = 1\n",
        "        one_hot_step[self.episode_limit + 1 + self.branch] = 1\n",
        "        return [tuple(one_hot_step) for _ in range(self.n_agents)]\n",
        "\n",
        "    def get_obs_agent(self, agent_id):\n",
        "        \"\"\" Returns observation for agent_id \"\"\"\n",
        "        return self.get_obs()[agent_id]\n",
        "\n",
        "    def get_obs_size(self):\n",
        "        \"\"\" Returns the shape of the observation \"\"\"\n",
        "        return len(self.get_obs_agent(0))\n",
        "\n",
        "    def get_state(self):\n",
        "        return self.get_obs_agent(0)\n",
        "\n",
        "    def get_state_size(self):\n",
        "        \"\"\" Returns the shape of the state\"\"\"\n",
        "        return self.get_obs_size()\n",
        "\n",
        "    def get_total_actions(self):\n",
        "        \"\"\" Returns the total number of actions an agent could ever take \"\"\"\n",
        "        return self.n_actions\n"
      ],
      "execution_count": null,
      "outputs": []
    },
    {
      "cell_type": "markdown",
      "metadata": {
        "id": "sDhlnKx8bAEH",
        "colab_type": "text"
      },
      "source": [
        "### Implement an agent using Q-Learning "
      ]
    },
    {
      "cell_type": "markdown",
      "metadata": {
        "id": "ZfTfBBOgbBc4",
        "colab_type": "text"
      },
      "source": [
        "Q-Learning is a single agent learning algorithm for finding optimal policies in MDPs. The key updating rule is as follwings:\n",
        "\n",
        "$$\n",
        "Q(s, a) \\leftarrow(1-\\phi) Q(s, a)+\\phi\\left(r+\\gamma V\\left(s^{\\prime}\\right)\\right)\n",
        "$$\n",
        "\n",
        "where,\n",
        "$$\n",
        "V(s)=\\max\\left(\\left[Q(s, a)_{a \\in \\mathcal{A}}\\right]\\right)\n",
        "$$"
      ]
    },
    {
      "cell_type": "code",
      "metadata": {
        "id": "xz8xTCWRbiXI",
        "colab_type": "code",
        "colab": {}
      },
      "source": [
        "class QAgent(BaseQAgent):\n",
        "    def __init__(self, **kwargs):\n",
        "        super().__init__('QAgent', **kwargs)\n",
        "        self.Q = defaultdict(partial(np.random.rand, self.action_num))\n",
        "        self.R = defaultdict(partial(np.zeros, self.action_num))\n",
        "        self.count_R = defaultdict(partial(np.zeros, self.action_num))\n",
        "\n",
        "    def done(self):\n",
        "        self.R.clear()\n",
        "        self.count_R.clear()\n",
        "\n",
        "    def update(self, observation, action, reward, next_observation, done):\n",
        "        self.count_R[observation][action] += 1.0\n",
        "        self.R[observation][action] += (reward - self.R[observation][action]) / self.count_R[observation][action]\n",
        "        Q = self.Q[observation]\n",
        "        V = self.val(next_observation)\n",
        "        if done:\n",
        "            self.Q[observation][action]=((1-self.phi)*Q[action])+(self.phi*(reward))\n",
        "        else:\n",
        "            self.Q[observation][action] = ((1-self.phi)*Q[action])+self.phi*(reward+self.gamma*V)\n",
        "        self.update_policy(observation, action)\n",
        "        self.epoch += 1\n",
        "\n",
        "    def val(self, observation):\n",
        "        v = np.max(self.Q[observation])      \n",
        "        return v\n",
        "\n",
        "    def update_policy(self, observation, action):\n",
        "        Q = self.Q[observation]\n",
        "        self.pi[observation] = (Q == np.max(Q)).astype(np.double)\n",
        "        self.pi[observation] = self.pi[observation] / np.sum(self.pi[observation])\n",
        "  "
      ],
      "execution_count": null,
      "outputs": []
    },
    {
      "cell_type": "markdown",
      "metadata": {
        "id": "y34W1E4goX5p",
        "colab_type": "text"
      },
      "source": [
        "### Test Q agents on the Stochastic Game"
      ]
    },
    {
      "cell_type": "code",
      "metadata": {
        "id": "FlMO0lF4oZmi",
        "colab_type": "code",
        "colab": {
          "base_uri": "https://localhost:8080/",
          "height": 386
        },
        "outputId": "dcf67e9d-12c0-4d8a-f54b-4c1506edb8d9"
      },
      "source": [
        "import numpy as np\n",
        "import matplotlib\n",
        "import matplotlib.pyplot as plt\n",
        "from copy import deepcopy\n",
        "\n",
        "def rollout(env, agents, exploration=True, max_iter=5000, log_episode_interval=100, verbose=False):\n",
        "  history_reward = []\n",
        "  state_n = env.reset()\n",
        "  episode_reward = 0\n",
        "  episode_count = 0\n",
        "  recorded_episodes = []\n",
        "  recorded_episode_reward = []\n",
        "  for i in range(max_iter):\n",
        "      actions = np.array([agent.act(state, exploration) for state, agent in zip(state_n, agents)])\n",
        "      next_state_n, reward_n, done_n, _ = env.step(actions)\n",
        "      episode_reward += np.mean(reward_n)\n",
        "      for j, (state, reward, next_state, done, agent) in enumerate(zip(state_n, reward_n, next_state_n, done_n, agents)):\n",
        "          agent.update(state, actions[j], reward, next_state, done)\n",
        "      state_n = next_state_n\n",
        "      if np.all(done_n):\n",
        "          state_n = env.reset()\n",
        "          history_reward.append(episode_reward)\n",
        "          episode_reward = 0\n",
        "          episode_count += 1\n",
        "          if (i + 1) %  log_episode_interval == 0:\n",
        "            recorded_episodes.append(i)\n",
        "            episodes_mean_reward = np.mean(history_reward)\n",
        "            recorded_episode_reward.append(episodes_mean_reward)\n",
        "            history_reward = []\n",
        "            if verbose:\n",
        "                print('Episode {}, Reward {}'.format(i, episodes_mean_reward))\n",
        "  return recorded_episodes, recorded_episode_reward\n",
        "\n",
        "\n",
        "agent_num = 2\n",
        "action_num = 2\n",
        "agents = []\n",
        "env = StochasticGame()\n",
        "for i in range(agent_num):\n",
        "    agent = QAgent(action_num=action_num, phi=0.01, gamma=0.99, episilon=0.1)\n",
        "    agents.append(agent)\n",
        "\n",
        "# Training\n",
        "train_recorded_episodes, train_recorded_episode_reward = rollout(env=env, \n",
        "                                                                 agents=agents, \n",
        "                                                                 exploration=True, \n",
        "                                                                 max_iter=50000)\n",
        "\n",
        "fig = plt.figure(figsize=(6, 5))\n",
        "ax = fig.add_subplot(111)\n",
        "\n",
        "ax.plot(train_recorded_episodes, train_recorded_episode_reward)\n",
        "\n",
        "ax.set_title(\"Learning Curve\")\n",
        "ax.set_ylabel(\"Episodic Reward\")\n",
        "ax.set_xlabel(\"Episodes\")\n",
        "plt.tight_layout()\n",
        "plt.show()\n",
        "\n",
        "# Testing\n",
        "test_recorded_episodes, test_recorded_episode_reward = rollout(env=env, \n",
        "                                                               agents=agents, \n",
        "                                                               exploration=False, \n",
        "                                                               max_iter=10, \n",
        "                                                               log_episode_interval=1)\n",
        "print('Test reward is:', np.mean(test_recorded_episode_reward))"
      ],
      "execution_count": null,
      "outputs": [
        {
          "output_type": "display_data",
          "data": {
            "image/png": "[encoded data removed]",
            "text/plain": [
              "<Figure size 432x360 with 1 Axes>"
            ]
          },
          "metadata": {
            "tags": []
          }
        },
        {
          "output_type": "stream",
          "text": [
            "Test reward is: 8.0\n"
          ],
          "name": "stdout"
        }
      ]
    },
    {
      "cell_type": "markdown",
      "metadata": {
        "id": "h2riMNI5E-1H",
        "colab_type": "text"
      },
      "source": [
        "### Implement an Advanced Agent to solve the Stochastic Game "
      ]
    },
    {
      "cell_type": "markdown",
      "metadata": {
        "id": "KC8WVPHibrxn",
        "colab_type": "text"
      },
      "source": [
        "Unless you are extremely lucky, the Q-learning agent implemented above is very hard to succeed in the Stochastic Game. In this part, you are required to implement a really cool agent to play the Stochastic Game. \n",
        "\n",
        "**Hint: You might want to use a strategic exploration approach.**\n"
      ]
    },
    {
      "cell_type": "code",
      "metadata": {
        "id": "uSRNqF5YoWsS",
        "colab_type": "code",
        "colab": {}
      },
      "source": [
        "class CoolAgent(BaseQAgent):\n",
        "    def __init__(self, **kwargs, ):\n",
        "        super().__init__('CoolAgent', epsilon = 0.5, **kwargs)\n",
        "        self.Q = defaultdict(partial(np.random.rand, self.action_num))\n",
        "        self.R = defaultdict(partial(np.zeros, self.action_num))\n",
        "        self.count_R = defaultdict(partial(np.zeros, self.action_num))\n",
        "\n",
        "        self.n_samples = n_samples\n",
        "        self.n_learning = n_learning\n",
        "        self.epsilon = epsilon\n",
        "        self.ep = np.random.uniform(0, 1, size=env.n_trials)\n",
        "        self.exploit = (1 - e)\n",
        "\n",
        "    def done(self):\n",
        "        self.R.clear()\n",
        "        self.count_R.clear()\n",
        "    \n",
        "    def act(self, observation, exploration):\n",
        "        if np.random.uniform(0, 1) < epsilon:\n",
        "            Q = self.Q[exploration]\n",
        "            v = (Q == np.random.rand)\n",
        "        else:\n",
        "            Q = self.Q[observation]\n",
        "            v = (Q == np.max(Q))        \n",
        "        return v\n",
        "\n",
        "    def update(self, observation, action, reward, next_observation, done):\n",
        "        self.count_R[observation][action] += 1.0\n",
        "        self.R[observation][action] += (reward - self.R[observation][action]) / self.count_R[observation][action]\n",
        "        Q = self.Q[observation]\n",
        "        V = self.val(next_observation)\n",
        "\n",
        "        if done:\n",
        "            self.Q[observation]=(1-self.phi)*self.Q[observation]+self.phi*(self.R[observation][action]+self.gamma*0)\n",
        "        else:\n",
        "            self.Q[observation]=(1-self.phi)*self.Q[observation]+self.phi*(self.R[observation][action]+self.gamma*V)\n",
        "        self.update_policy(observation, action)\n",
        "        self.epoch += 1\n",
        "\n",
        "    def update_policy(self, observation, action):\n",
        "        Q = self.Q[observation]\n",
        "        self.pi[observation] = (Q == np.max(Q)).astype(np.double)\n",
        "        self.pi[observation] = self.pi[observation] / np.sum(self.pi[observation])\n"
      ],
      "execution_count": null,
      "outputs": []
    },
    {
      "cell_type": "code",
      "metadata": {
        "id": "ZNHSt61FFXiT",
        "colab_type": "code",
        "colab": {
          "base_uri": "https://localhost:8080/",
          "height": 386
        },
        "outputId": "dd5c09c8-06c6-4cb4-967f-bfb6bbb0ae37"
      },
      "source": [
        "import numpy as np\n",
        "import matplotlib\n",
        "import matplotlib.pyplot as plt\n",
        "from copy import deepcopy\n",
        "\n",
        "def rollout(env, agents, exploration=True, max_iter=5000, log_episode_interval=100, verbose=False):\n",
        "  history_reward = []\n",
        "  state_n = env.reset()\n",
        "  episode_reward = 0\n",
        "  episode_count = 0\n",
        "  recorded_episodes = []\n",
        "  recorded_episode_reward = []\n",
        "  for i in range(max_iter):\n",
        "      actions = np.array([agent.act(state, exploration) for state, agent in zip(state_n, #cool_agents)])\n",
        "      next_state_n, reward_n, done_n, _ = env.step(actions)\n",
        "      episode_reward += np.mean(reward_n)\n",
        "      for j, (state, reward, next_state, done, agent) in enumerate(zip(state_n, reward_n, next_state_n, done_n, agents)):\n",
        "          agent.update(state, actions[j], reward, next_state, done)\n",
        "      state_n = next_state_n\n",
        "      if np.all(done_n):\n",
        "          state_n = env.reset()\n",
        "          history_reward.append(episode_reward)\n",
        "          episode_reward = 0\n",
        "          episode_count += 1\n",
        "          if (i + 1) %  log_episode_interval == 0:\n",
        "            recorded_episodes.append(i)\n",
        "            episodes_mean_reward = np.mean(history_reward)\n",
        "            recorded_episode_reward.append(episodes_mean_reward)\n",
        "            history_reward = []\n",
        "            if verbose:\n",
        "                print('Episode {}, Reward {}'.format(i, episodes_mean_reward))\n",
        "  return recorded_episodes, recorded_episode_reward\n",
        "\n",
        "\n",
        "agent_num = 2\n",
        "action_num = 2\n",
        "cool_agents = []\n",
        "env = StochasticGame()\n",
        "for i in range(agent_num):\n",
        "    agent = QAgent(action_num=action_num, phi=0.01, gamma=0.99, episilon=0.1)\n",
        "    agents.append(agent)\n",
        "\n",
        "# Training\n",
        "train_recorded_episodes, train_recorded_episode_reward = rollout(env=env, \n",
        "                                                                 agents=cool_agents, \n",
        "                                                                 exploration=True, \n",
        "                                                                 max_iter=50000)\n",
        "\n",
        "fig = plt.figure(figsize=(6, 5))\n",
        "ax = fig.add_subplot(111)\n",
        "\n",
        "ax.plot(train_recorded_episodes, train_recorded_episode_reward)\n",
        "\n",
        "ax.set_title(\"Learning Curve\")\n",
        "ax.set_ylabel(\"Episodic Reward\")\n",
        "ax.set_xlabel(\"Episodes\")\n",
        "plt.tight_layout()\n",
        "plt.show()\n",
        "\n",
        "# Testing\n",
        "test_recorded_episodes, test_recorded_episode_reward = rollout(env=env, \n",
        "                                                               agents=cool_agents, \n",
        "                                                               exploration=False, \n",
        "                                                               max_iter=10, \n",
        "                                                               log_episode_interval=1)\n",
        "print('Test reward is:', np.mean(test_recorded_episode_reward))\n",
        "\n",
        "cool_agents = cool_agents.append(agents)"
      ],
      "execution_count": null,
      "outputs": [
        {
          "output_type": "display_data",
          "data": {
            "image/png": "[encoded data removed]",
            "text/plain": [
              "<Figure size 432x360 with 1 Axes>"
            ]
          },
          "metadata": {
            "tags": []
          }
        },
        {
          "output_type": "stream",
          "text": [
            "Test reward is: 6.5\n"
          ],
          "name": "stdout"
        }
      ]
    },
    {
      "cell_type": "markdown",
      "metadata": {
        "id": "czpJ_sB9hSbU",
        "colab_type": "text"
      },
      "source": [
        "The result is clearly better when we add some exploration. Wihtout exploration, the Q Agent can achieve some high result but not consistently and tends to remain between 0 and 1. The highest result obtained has been 4. However when exploration is used we can consistently achieve a result over 6. I have added this in the act function. We can see that if we pick a random number between 0 and 1, we can say that if this number is below some constant epsilon then the agent should explore the action space. Else, go for maximum reward. Fromm the resulting graph we can see the result oscillating around 0 until it takes an exploration step and suddenly this shoots up. This method is called epsilon-greedy. It should be noted that this method can easily get stuck at local minima."
      ]
    },
    {
      "cell_type": "markdown",
      "metadata": {
        "id": "7quwWZTJlwfV",
        "colab_type": "text"
      },
      "source": [
        "## Part III: Deep Multi-Agent Reinforcement Learning "
      ]
    },
    {
      "cell_type": "markdown",
      "metadata": {
        "id": "bBcOf9ENzRSt",
        "colab_type": "text"
      },
      "source": [
        "For this part, we will implement DQN, a deep reinforcement learning algorithms in a multi-agent setting and get to see it work on the `Switch-n` environment from ma-gym. Please read [the wiki of ma-gym](https://github.com/koulanurag/ma-gym/wiki/) first."
      ]
    },
    {
      "cell_type": "markdown",
      "metadata": {
        "id": "eAePzQjrcriF",
        "colab_type": "text"
      },
      "source": [
        "### Environment Example\n",
        "#### Switch2-v0\n",
        "![Switch-2](https://raw.githubusercontent.com/koulanurag/ma-gym/master/static/gif/Switch2-v0.gif)\n",
        "#### Switch4-v0\n",
        "![Switch-4](https://raw.githubusercontent.com/koulanurag/ma-gym/master/static/gif/Switch4-v0.gif)\n",
        "\n",
        "`Switch-n` is a grid world environment having `n agents` where each agent wants to move their corresponding home location (marked in boxes outlined in same colors).\n",
        "Each agent receives only it's local position coordinates. The challenging part of the game is to pass through the narrow corridor through which only one agent can pass at a time. They need to coordinate to not block the pathway for the other. A reward of +5 is given to each agent for reaching their home cell. The episode ends when both agents has reached their home state or for a maximum of 100 steps in environment.\n",
        "\n",
        "Action Space: `0: Down, 1: Left, 2: Up , 3: Right, 4: Noop`\n",
        "\n",
        "Agent Observation : `Agent Coordinate + Steps in env.`\n",
        "\n",
        "Best Score: `NA`"
      ]
    },
    {
      "cell_type": "markdown",
      "metadata": {
        "id": "2bRNAhv1QMC1",
        "colab_type": "text"
      },
      "source": [
        "### Download Requirements and Set the Environment\n",
        "The following command will download the required scripts and set up the environment. "
      ]
    },
    {
      "cell_type": "code",
      "metadata": {
        "colab_type": "code",
        "id": "OV_wPcljEYZL",
        "colab": {}
      },
      "source": [
        "!rm -rf /content/ma-gym  \n",
        "!git clone https://github.com/koulanurag/ma-gym.git \n",
        "%cd /content/ma-gym \n",
        "!pip install -q -e . \n",
        "!apt-get install -y xvfb python-opengl x11-utils > /dev/null 2>&1\n",
        "!pip install pyvirtualdisplay > /dev/null 2>&1\n",
        "!apt-get install x11-utils\n",
        "!apt-get update > /dev/null 2>&1\n",
        "!apt-get install cmake > /dev/null 2>&1\n",
        "!pip install --upgrade setuptools 2>&1\n",
        "!pip install ez_setup > /dev/null 2>&1\n",
        "!pip install -U gym[atari] > /dev/null 2>&1"
      ],
      "execution_count": null,
      "outputs": []
    },
    {
      "cell_type": "code",
      "metadata": {
        "colab_type": "code",
        "id": "yK-sS4ImEYF7",
        "colab": {}
      },
      "source": [
        "%matplotlib inline\n",
        "import gym\n",
        "import ma_gym\n",
        "from ma_gym.wrappers import Monitor\n",
        "import matplotlib.pyplot as plt\n",
        "import glob\n",
        "import io\n",
        "import base64\n",
        "from IPython.display import HTML\n",
        "from IPython import display as ipythondisplay\n",
        "\n",
        "from pyvirtualdisplay import Display\n",
        "display = Display(visible=0, size=(1400, 900))\n",
        "display.start()\n",
        "\n",
        "\"\"\"\n",
        "Utility functions to enable video recording of gym environment and displaying it\n",
        "To enable video, just do \"env = wrap_env(env)\"\"\n",
        "\"\"\"\n",
        "\n",
        "def show_video():\n",
        "  mp4list = glob.glob('video/*.mp4')\n",
        "  if len(mp4list) > 0:\n",
        "    mp4 = mp4list[0]\n",
        "    video = io.open(mp4, 'r+b').read()\n",
        "    encoded = base64.b64encode(video)\n",
        "    ipythondisplay.display(HTML(data='''<video alt=\"test\" autoplay \n",
        "                loop controls style=\"height: 400px;\">\n",
        "                <source src=\"data:video/mp4;base64,{0}\" type=\"video/mp4\" />\n",
        "             </video>'''.format(encoded.decode('ascii'))))\n",
        "  else: \n",
        "    print(\"Could not find video\")\n",
        "    \n",
        "\n",
        "def wrap_env(env):\n",
        "  env = Monitor(env, './video', force=True)\n",
        "  return env"
      ],
      "execution_count": null,
      "outputs": []
    },
    {
      "cell_type": "markdown",
      "metadata": {
        "id": "IOzRdQAOu7n_",
        "colab_type": "text"
      },
      "source": [
        "#### Example of playing Switch2-v0 Using Random Policy"
      ]
    },
    {
      "cell_type": "code",
      "metadata": {
        "id": "QXMuXU52pznF",
        "colab_type": "code",
        "colab": {
          "base_uri": "https://localhost:8080/",
          "height": 475
        },
        "outputId": "8b414e70-8904-4562-9b4d-dd51aae1cbbe"
      },
      "source": [
        "env = wrap_env(gym.make(\"Switch2-v0\")) # Use \"Switch4-v0\" for the Switch-4 game\n",
        "done_n = [False for _ in range(env.n_agents)]\n",
        "ep_reward = 0\n",
        "\n",
        "obs_n = env.reset()\n",
        "while not all(done_n):\n",
        "    action = env.action_space.sample()\n",
        "    #print(action)\n",
        "    obs_n, reward_n, done_n, info = env.step(action)\n",
        "    #print(obs_n, reward_n, done_n, info)\n",
        "    ep_reward += sum(reward_n)\n",
        "    env.render()\n",
        "env.close()\n",
        "# To improve the training efficiency, render() is not necessary during the training.\n",
        "# We provide the render and video code here just want to demonstrate how to debugging and analysis.\n",
        "show_video()"
      ],
      "execution_count": null,
      "outputs": [
        {
          "output_type": "stream",
          "text": [
            "/usr/local/lib/python3.6/dist-packages/gym/logger.py:30: UserWarning: \u001b[33mWARN: Box bound precision lowered by casting to float32\u001b[0m\n",
            "  warnings.warn(colorize('%s: %s'%('WARN', msg % args), 'yellow'))\n"
          ],
          "name": "stderr"
        },
        {
          "output_type": "display_data",
          "data": {
            "text/html": [
              "<video alt=\"test\" autoplay \n",
              "                loop controls style=\"height: 400px;\">\n",
              "                <source src=\"data:video/mp4;base64,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\" type=\"video/mp4\" />\n",
              "             </video>"
            ],
            "text/plain": [
              "<IPython.core.display.HTML object>"
            ]
          },
          "metadata": {
            "tags": []
          }
        }
      ]
    },
    {
      "cell_type": "markdown",
      "metadata": {
        "id": "22rC-6i4YztB",
        "colab_type": "text"
      },
      "source": [
        "### Implement a Deep MARL Agent to Play Switch2-v0 \n",
        "\n",
        "\n",
        "\n"
      ]
    },
    {
      "cell_type": "markdown",
      "metadata": {
        "id": "64dJu3WwuBwu",
        "colab_type": "text"
      },
      "source": [
        "#### Code for Playing Switch2-v0\n"
      ]
    },
    {
      "cell_type": "code",
      "metadata": {
        "id": "D6WKM3U3JGZr",
        "colab_type": "code",
        "colab": {}
      },
      "source": [
        "%matplotlib inline\n",
        "import gym\n",
        "import ma_gym\n",
        "from ma_gym.wrappers import Monitor\n",
        "import matplotlib.pyplot as plt\n",
        "import glob\n",
        "import io\n",
        "import base64\n",
        "from IPython.display import HTML\n",
        "from IPython import display as ipythondisplay\n",
        "\n",
        "env = gym.make('Switch2-v0')\n",
        "\n",
        "from pyvirtualdisplay import Display\n",
        "display = Display(visible=0, size=(1400, 900))\n",
        "display.start()\n",
        "\n",
        "\"\"\"\n",
        "Utility functions to enable video recording of gym environment and displaying it\n",
        "To enable video, just do \"env = wrap_env(env)\"\"\n",
        "\"\"\"\n",
        "\n",
        "def show_video():\n",
        "  mp4list = glob.glob('video/*.mp4')\n",
        "  if len(mp4list) > 0:\n",
        "    mp4 = mp4list[0]\n",
        "    video = io.open(mp4, 'r+b').read()\n",
        "    encoded = base64.b64encode(video)\n",
        "    ipythondisplay.display(HTML(data='''<video alt=\"test\" autoplay \n",
        "                loop controls style=\"height: 400px;\">\n",
        "                <source src=\"data:video/mp4;base64,{0}\" type=\"video/mp4\" />\n",
        "             </video>'''.format(encoded.decode('ascii'))))\n",
        "  else: \n",
        "    print(\"Could not find video\")\n",
        "    \n",
        "\n",
        "def wrap_env(env):\n",
        "  env = Monitor(env, './video', force=True)\n",
        "  return env\n",
        "\n"
      ],
      "execution_count": null,
      "outputs": []
    },
    {
      "cell_type": "code",
      "metadata": {
        "id": "Ex2Eje8XEoVk",
        "colab_type": "code",
        "colab": {}
      },
      "source": [
        "import numpy as np\n",
        "import random\n",
        "from collections import namedtuple, deque\n",
        "\n",
        "import torch\n",
        "import torch.nn.functional as F\n",
        "import torch.optim as optim\n",
        "\n",
        "BUFFER_SIZE = int(1e5)  # replay buffer size\n",
        "BATCH_SIZE = 64         # minibatch size\n",
        "GAMMA = 0.95            # discount factor\n",
        "TAU = 0.05             # for soft update of target parameters\n",
        "LR =  0.001 #5e-4               # learning rate \n",
        "UPDATE_EVERY = 4        # how often to update the network\n",
        "\n",
        "device = torch.device(\"cuda:0\" if torch.cuda.is_available() else \"cpu\")\n",
        "\n",
        "class Agent():\n",
        "    \"\"\"Interacts with and learns from the environment.\"\"\"\n",
        "\n",
        "    def __init__(self, state_size, action_size, seed):\n",
        "        \"\"\"Initialize an Agent object. \"\"\"\n",
        "        self.state_size = state_size\n",
        "        self.action_size = action_size\n",
        "        self.seed = random.seed(seed)\n",
        "\n",
        "\n",
        "        # Q-Network\n",
        "        self.qnetwork_local = QNetwork(state_size, action_size, seed).to(device)\n",
        "        self.qnetwork_target = QNetwork(state_size, action_size, seed).to(device)\n",
        "        self.optimizer = optim.Adam(self.qnetwork_local.parameters(), lr=LR)\n",
        "\n",
        "        # Replay memory\n",
        "        self.memory = ReplayBuffer(action_size, BUFFER_SIZE, BATCH_SIZE, seed)\n",
        "        # Initialize time step (for updating every UPDATE_EVERY steps)\n",
        "        self.t_step = 0\n",
        "    \n",
        "    def step(self, state, action, reward, next_state, done):\n",
        "        self.memory.add(state, action, reward, next_state, done)\n",
        "        \n",
        "        # Learn every UPDATE_EVERY time steps.\n",
        "        self.t_step = (self.t_step + 1) % UPDATE_EVERY\n",
        "        if self.t_step == 0:\n",
        "            # If enough samples are available in memory, get random subset and learn\n",
        "            if len(self.memory) > BATCH_SIZE:\n",
        "                experiences = self.memory.sample()\n",
        "                self.learn(experiences, GAMMA)\n",
        "\n",
        "    def act(self, state, eps=0.):\n",
        "        \"\"\"Returns actions for given state as per current policy.\"\"\"\n",
        "        state = np.asarray(state)\n",
        "        state = torch.from_numpy(state).float().unsqueeze(0).to(device)\n",
        "        self.qnetwork_local.eval()\n",
        "        with torch.no_grad():\n",
        "            action_values = self.qnetwork_local(state)\n",
        "        self.qnetwork_local.train()\n",
        "\n",
        "        # Epsilon-greedy action selection\n",
        "        number = random.random()\n",
        "\n",
        "        if number > eps:\n",
        "            defact = np.argmax(action_values.cpu().data.numpy())\n",
        "            return defact\n",
        "        else:\n",
        "            return random.choice(np.arange(self.action_size))\n",
        "\n",
        "\n",
        "    def learn(self, experiences, gamma):\n",
        "        \"\"\"Update value parameters using given batch of experience tuples. \"\"\"\n",
        "        states, actions, rewards, next_states, dones = experiences\n",
        "        # Get max predicted Q values (for next states) from target model\n",
        "        Q_targets_next = self.qnetwork_target(next_states).detach().max(1)[0].unsqueeze(1)\n",
        "        # Compute Q targets for current states \n",
        "        Q_targets = rewards + (gamma * Q_targets_next * (1 - dones))\n",
        "\n",
        "        # Get expected Q values from local model\n",
        "        Q_expected = self.qnetwork_local(states).gather(1, actions)\n",
        "\n",
        "        # Compute loss\n",
        "        loss = F.mse_loss(Q_expected, Q_targets)\n",
        "        self.optimizer.zero_grad()\n",
        "        loss.backward()\n",
        "        self.optimizer.step()\n",
        "\n",
        "        # ------------------- update target network ------------------- #\n",
        "        self.soft_update(self.qnetwork_local, self.qnetwork_target, TAU)                     \n",
        "\n",
        "    def soft_update(self, local_model, target_model, tau):\n",
        "        \"\"\"Soft update model parameters.\"\"\"\n",
        "        for target_param, local_param in zip(target_model.parameters(), local_model.parameters()):\n",
        "            target_param.data.copy_(tau*local_param.data + (1.0-tau)*target_param.data)\n",
        "\n",
        "\n",
        "class ReplayBuffer:\n",
        "    \"\"\"Fixed-size buffer to store experience tuples.\"\"\"\n",
        "\n",
        "    def __init__(self, action_size, buffer_size, batch_size, seed):\n",
        "        \"\"\"Initialize a ReplayBuffer object.\"\"\"\n",
        "        self.action_size = action_size\n",
        "        self.memory = deque(maxlen=buffer_size)  \n",
        "        self.batch_size = batch_size\n",
        "        self.experience = namedtuple(\"Experience\", field_names=[\"state\", \"action\", \"reward\", \"next_state\", \"done\"])\n",
        "        self.seed = random.seed(seed)\n",
        "    \n",
        "    def add(self, state, action, reward, next_state, done):\n",
        "        \"\"\"Add a new experience to memory.\"\"\"\n",
        "        e = self.experience(state, action, reward, next_state, done)\n",
        "        self.memory.append(e)\n",
        "    \n",
        "    def sample(self):\n",
        "        \"\"\"Randomly sample a batch of experiences from memory.\"\"\"\n",
        "        experiences = random.sample(self.memory, k=self.batch_size)\n",
        "        states = torch.from_numpy(np.vstack([e.state for e in experiences if e is not None])).float().to(device)\n",
        "        actions = torch.from_numpy(np.vstack([e.action for e in experiences if e is not None])).long().to(device)\n",
        "        rewards = torch.from_numpy(np.vstack([e.reward for e in experiences if e is not None])).float().to(device)\n",
        "        next_states = torch.from_numpy(np.vstack([e.next_state for e in experiences if e is not None])).float().to(device)\n",
        "        dones = torch.from_numpy(np.vstack([e.done for e in experiences if e is not None]).astype(np.uint8)).float().to(device)\n",
        "        return (states, actions, rewards, next_states, dones)\n",
        "\n",
        "    def __len__(self):\n",
        "        \"\"\"Return the current size of internal memory.\"\"\"\n",
        "        return len(self.memory)"
      ],
      "execution_count": null,
      "outputs": []
    },
    {
      "cell_type": "code",
      "metadata": {
        "id": "kFQ60x4JEpkw",
        "colab_type": "code",
        "colab": {}
      },
      "source": [
        "import torch\n",
        "import torch.nn as nn\n",
        "import torch.nn.functional as F\n",
        "\n",
        "class QNetwork(nn.Module):\n",
        "    \"\"\"Actor (Policy) Model.\"\"\"\n",
        "    def __init__(self, state_size, action_size, seed, fc1_units=64, fc2_units=64):\n",
        "        super(QNetwork, self).__init__()\n",
        "        self.seed = torch.manual_seed(seed)\n",
        "        self.fc1 = nn.Linear(state_size, fc1_units)\n",
        "        self.fc2 = nn.Linear(fc1_units, fc2_units)\n",
        "        self.fc3 = nn.Linear(fc2_units, action_size)\n",
        "\n",
        "    def forward(self, state):\n",
        "        \"\"\"Build a network that maps state -> action values.\"\"\"\n",
        "        x = F.relu(self.fc1(state))\n",
        "        x = F.relu(self.fc2(x))\n",
        "        return self.fc3(x)"
      ],
      "execution_count": null,
      "outputs": []
    },
    {
      "cell_type": "code",
      "metadata": {
        "id": "RrOIIXdIEtIp",
        "colab_type": "code",
        "colab": {}
      },
      "source": [
        "agent1 = Agent(state_size=2, action_size=5, seed=0)\n",
        "agent2 = Agent(state_size=2, action_size=5, seed=1)"
      ],
      "execution_count": null,
      "outputs": []
    },
    {
      "cell_type": "code",
      "metadata": {
        "id": "ktq-Xkq_EvUG",
        "colab_type": "code",
        "colab": {}
      },
      "source": [
        "def dqn(n_episodes=30000, max_t=1000, eps_start=1.0, eps_end=0.01, eps_decay=0.995):\n",
        "    \"\"\"Deep Q-Learning.\n",
        "    \n",
        "    Params\n",
        "    ======\n",
        "        n_episodes (int): maximum number of training episodes\n",
        "        max_t (int): maximum number of timesteps per episode\n",
        "        eps_start (float): starting value of epsilon, for epsilon-greedy action selection\n",
        "        eps_end (float): minimum value of epsilon\n",
        "        eps_decay (float): multiplicative factor (per episode) for decreasing epsilon\n",
        "    \"\"\"\n",
        "    team_rewards = []\n",
        "    scores = []                        # list containing scores from each episode\n",
        "    scores_window = deque(maxlen=100)  # last 100 scores\n",
        "    eps = eps_start                    # initialize epsilon\n",
        "    for i_episode in range(1, n_episodes+1):\n",
        "        state = env.reset()\n",
        "        score = 0\n",
        "        # if i_episode >=100:\n",
        "        #   eps_start = 0.6305556603555866\n",
        "        for t in range(max_t):\n",
        "            action1 = agent1.act(state[0], eps)\n",
        "            action2 = agent2.act(state[1], eps)\n",
        "            action = [action1, action2]\n",
        "            next_state, reward, done, _ = env.step(action)\n",
        "            agent1.step(state[0], [action[0]], [reward[0]], next_state[0], done[0])\n",
        "            agent2.step(state[1], [action[1]], [reward[1]], next_state[1], done[1])\n",
        "            state = next_state\n",
        "            team_reward = sum(reward)\n",
        "            score += team_reward\n",
        "            team_rewards.append(team_reward)\n",
        "            if all(done) == True:\n",
        "                if team_reward > 5:\n",
        "                  print(\"SUCCESS:\", team_reward)\n",
        "                break \n",
        "        scores_window.append(score)       # save most recent score\n",
        "        scores.append(score)              # save most recent score\n",
        "        eps = max(eps_end, eps_decay*eps) # decrease epsilon\n",
        "        print('\\rEpisode {}\\tAverage Score: {:.2f}'.format(i_episode, np.mean(scores_window)), end=\"\")\n",
        "        if i_episode % 10 == 0:\n",
        "            print('\\rEpisode {}\\tAverage Score: {:.2f}'.format(i_episode, np.mean(scores_window)))\n",
        "        if team_reward>5:\n",
        "            print('\\nEnvironment solved in {:d} episodes!\\tAverage Score: {:.2f}'.format(i_episode, np.mean(scores_window)))\n",
        "            torch.save(agent1.qnetwork_local.state_dict(), 'checkpoint1.pth')\n",
        "            torch.save(agent2.qnetwork_local.state_dict(), 'checkpoint2.pth')\n",
        "            #break\n",
        "    return scores, team_rewards"
      ],
      "execution_count": null,
      "outputs": []
    },
    {
      "cell_type": "code",
      "metadata": {
        "id": "g_70wA5FEx4L",
        "colab_type": "code",
        "colab": {}
      },
      "source": [
        "scores, team_rewards = dqn()"
      ],
      "execution_count": null,
      "outputs": []
    },
    {
      "cell_type": "markdown",
      "metadata": {
        "id": "LTZoC30suOe7",
        "colab_type": "text"
      },
      "source": [
        "#### Plot the Learning Curve"
      ]
    },
    {
      "cell_type": "code",
      "metadata": {
        "id": "uaBukU_UE4r5",
        "colab_type": "code",
        "colab": {
          "base_uri": "https://localhost:8080/",
          "height": 369
        },
        "outputId": "be430b58-6f51-4d7f-c21f-287e7e10fb10"
      },
      "source": [
        "fig = plt.figure(figsize=(6, 5))\n",
        "ax = fig.add_subplot(111)\n",
        "#plt.plot(np.arange(len(team_rewards)), team_rewards)\n",
        "plt.plot(np.arange(len(scores)), scores)\n",
        "plt.ylabel('Score')\n",
        "plt.xlabel('Episode #')\n",
        "plt.tight_layout()\n",
        "plt.show()"
      ],
      "execution_count": null,
      "outputs": [
        {
          "output_type": "display_data",
          "data": {
            "image/png": "[encoded data removed]",
            "text/plain": [
              "<Figure size 432x360 with 1 Axes>"
            ]
          },
          "metadata": {
            "tags": []
          }
        }
      ]
    },
    {
      "cell_type": "markdown",
      "metadata": {
        "id": "SBPP9JtCuVEF",
        "colab_type": "text"
      },
      "source": [
        "#### Analysis on performance"
      ]
    },
    {
      "cell_type": "markdown",
      "metadata": {
        "id": "0AN92fSru0F0",
        "colab_type": "text"
      },
      "source": [
        "Above a DQN has been implemented to solve the switch2-V0 environment. It is able to solve it in under 100 episodes in most cases, achieving a team reward of +10 (+5 for each agent).\n",
        "\n",
        "The DQN uses a replay memory to train. It randomly samples past states, observations, actions and rewards to learn how to choose a better one. This improves the stability and performance of the training network.\n",
        "\n",
        "The policy model is built of 3 linear layers that are fed forward through two ReLu layers. The forward network is used to map states to action values. \n",
        "\n",
        "A sample batch is taken from the replay memory and used to generate a local network and a target network. This is used to compute the loss and Adam optimization is then applied. A test with SGD optimization was also performed but it was found that Adam reduced the noise in the learning curve considerably.\n",
        "\n",
        "Much time was spent tuning the hyperparameters to achieve optimal performance however these could continue to be improved. The average score rarely reaches positive values even when the game is completed (average score = mean of cumulative team reward in an episode).\n",
        "\n",
        "To improve the loss convergence a decayhing learning rate could be used. The one being used currently is constant and when the agent trains for many episodes the curve begine to oscillate and fluctuate. A decaying learning rate helps to avoid \"overshooting\" a minima in order to help converge to the maxima. This is done by reducing the step size in accordance with momentum.\n",
        "\n",
        "Tuning epsilon could also help in helping the learning curve converge and smoothen. We can vary epsilon to help us pick strategic actions vs exploration. In an environment such as Switch2-V0 it is obvious that the agents will need to spend considerable time exploring to discover potential states with high rewards that are several actions away from their current state. It is beneficial to the agent to explore earlier on in the game and then take startegic actions. For this reason we begin with an epsilon of 1 and decay it throughtout the game, to a minimum of 0.1.\n",
        "\n",
        "\n"
      ]
    }
  ]
}